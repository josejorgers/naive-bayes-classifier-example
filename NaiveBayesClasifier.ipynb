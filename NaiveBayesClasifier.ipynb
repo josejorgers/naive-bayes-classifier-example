{
 "cells": [
  {
   "cell_type": "markdown",
   "metadata": {},
   "source": [
    "# Naive Bayes Clasifier example\n",
    "\n",
    "In this notebook we implement and use a Naive Bayes Clasifier. This is a simple but often very helpful ML algorithm that is based on Conditional Probabilities and Bayes Theorems.\n",
    "\n",
    "## Algorithm implementation\n",
    "\n",
    "We'll implement a class that contains the methods and fields needed to learn and classify. "
   ]
  },
  {
   "cell_type": "code",
   "execution_count": 100,
   "metadata": {},
   "outputs": [],
   "source": [
    "class NaiveBayesClassifier:\n",
    "    \n",
    "    def __init__(self, X, y):\n",
    "        \n",
    "        '''\n",
    "        X and y denotes the features and the target labels respectively\n",
    "        '''\n",
    "        self.X, self.y = X, y \n",
    "        \n",
    "        self.N = len(self.X) # Length of the training set\n",
    "\n",
    "        self.dim = len(self.X[0]) # Dimension of the vector of features\n",
    "\n",
    "        self.attrs = [[] for _ in range(self.dim)] # Here we'll store the columns of the training set\n",
    "\n",
    "        self.output_dom = {} # Output classes with the number of ocurrences in the training set. In this case we have only 2 classes\n",
    "\n",
    "        self.data = [] # To store every row [Xi, yi]\n",
    "        \n",
    "        \n",
    "        for i in range(len(self.X)):\n",
    "            for j in range(self.dim):\n",
    "                # if we have never seen this value for this attr before, \n",
    "                # then we add it to the attrs array in the corresponding position\n",
    "                if not self.X[i][j] in self.attrs[j]:\n",
    "                    self.attrs[j].append(self.X[i][j])\n",
    "                    \n",
    "            # if we have never seen this output class before,\n",
    "            # then we add it to the output_dom and count one occurrence for now\n",
    "            if not self.y[i] in self.output_dom.keys():\n",
    "                self.output_dom[self.y[i]] = 1\n",
    "            # otherwise, we increment the occurrence of this output in the training set by 1\n",
    "            else:\n",
    "                self.output_dom[self.y[i]] += 1\n",
    "            # store the row\n",
    "            self.data.append([self.X[i], self.y[i]])\n",
    "            \n",
    "            \n",
    "\n",
    "    def classify(self, entry):\n",
    "\n",
    "        solve = None # Final result\n",
    "        max_arg = -1 # partial maximum\n",
    "\n",
    "        for y in self.output_dom.keys():\n",
    "\n",
    "            prob = self.output_dom[y]/self.N # P(y)\n",
    "\n",
    "            for i in range(self.dim):\n",
    "                cases = [x for x in self.data if x[0][i] == entry[i] and x[1] == y] # all rows with Xi = xi\n",
    "                n = len(cases)\n",
    "                prob *= n/self.N # P *= P(Xi = xi)\n",
    "                \n",
    "            # if we have a greater prob for this output than the partial maximum...\n",
    "            if prob > max_arg:\n",
    "                max_arg = prob\n",
    "                solve = y\n",
    "\n",
    "        return solve"
   ]
  },
  {
   "cell_type": "markdown",
   "metadata": {},
   "source": [
    "## Simple example\n",
    "\n",
    "We are going to use a dataset that contains all the info of the passengers on the Titanic. Our NBC will try to predict whether some passenger survived or not to the tragedy"
   ]
  },
  {
   "cell_type": "code",
   "execution_count": 129,
   "metadata": {},
   "outputs": [
    {
     "name": "stdout",
     "output_type": "stream",
     "text": [
      "   Survived  Pclass                                               Name  \\\n",
      "0         0       3                             Mr. Owen Harris Braund   \n",
      "1         1       1  Mrs. John Bradley (Florence Briggs Thayer) Cum...   \n",
      "2         1       3                              Miss. Laina Heikkinen   \n",
      "3         1       1        Mrs. Jacques Heath (Lily May Peel) Futrelle   \n",
      "4         0       3                            Mr. William Henry Allen   \n",
      "\n",
      "      Sex   Age  Siblings/Spouses Aboard  Parents/Children Aboard     Fare  \n",
      "0    male  22.0                        1                        0   7.2500  \n",
      "1  female  38.0                        1                        0  71.2833  \n",
      "2  female  26.0                        0                        0   7.9250  \n",
      "3  female  35.0                        1                        0  53.1000  \n",
      "4    male  35.0                        0                        0   8.0500  \n"
     ]
    }
   ],
   "source": [
    "import pandas as pd\n",
    "\n",
    "data = pd.read_csv('titanic.csv')\n",
    "\n",
    "print(data.head())\n",
    "\n",
    "y = list(map(lambda v: 'yes' if v == 1 else 'no', data['Survived'].values)) # target values as string\n",
    "\n",
    "# We won't use the 'Name' nor the 'Fare' field\n",
    "\n",
    "X = data[['Pclass', 'Sex', 'Age', 'Siblings/Spouses Aboard', 'Parents/Children Aboard']].values # features values\n",
    "\n",
    "## IMPORTANT: After running the whole experiment you can play with the features you include and exclude. For example, by removing\n",
    "## 'Age' field you get a better accuracy\n",
    "\n"
   ]
  },
  {
   "cell_type": "markdown",
   "metadata": {},
   "source": [
    "Now let's split the data into a training and a validation set"
   ]
  },
  {
   "cell_type": "code",
   "execution_count": 130,
   "metadata": {},
   "outputs": [
    {
     "name": "stdout",
     "output_type": "stream",
     "text": [
      "887\n"
     ]
    }
   ],
   "source": [
    "print(len(y)) # >> 887\n",
    "\n",
    "# We'll take 600 examples to train and the rest to the validation process\n",
    "y_train = y[:600]\n",
    "y_val = y[600:]\n",
    "\n",
    "X_train = X[:600]\n",
    "X_val = X[600:]\n"
   ]
  },
  {
   "cell_type": "code",
   "execution_count": 131,
   "metadata": {},
   "outputs": [
    {
     "name": "stdout",
     "output_type": "stream",
     "text": [
      "TOTAL EXAMPLES: 287\n",
      "RIGHT: 200\n",
      "WRONG: 87\n",
      "ACCURACY: 0.6968641114982579\n"
     ]
    }
   ],
   "source": [
    "## Creating the Naive Bayes Classifier instance with the training data\n",
    "\n",
    "nbc = NaiveBayesClassifier(X_train, y_train)\n",
    "\n",
    "\n",
    "total_cases = len(y_val) # size of validation set\n",
    "\n",
    "# Well classified examples and bad classified examples\n",
    "good = 0\n",
    "bad = 0\n",
    "\n",
    "for i in range(total_cases):\n",
    "    predict = nbc.classify(X_val[i])\n",
    "#     print(y_val[i] + ' --------------- ' + predict)\n",
    "    if y_val[i] == predict:\n",
    "        good += 1\n",
    "    else:\n",
    "        bad += 1\n",
    "\n",
    "print('TOTAL EXAMPLES:', total_cases)\n",
    "print('RIGHT:', good)\n",
    "print('WRONG:', bad)\n",
    "print('ACCURACY:', good/total_cases)"
   ]
  },
  {
   "cell_type": "markdown",
   "metadata": {},
   "source": [
    "## Conclusions\n",
    "\n",
    "NBC are pretty easy to implement. They are great for using as a baseline you can compare other more complex models with. In this case, the accuracy is not good. For example, if you classify all women as survivors you'll get a better accuracy.\n",
    "\n",
    "But you can improve the accuracy by doing some feature engineering. A simple approach would be removing some features like (eg: removing all the features but the sex and the class). The accuracy will improve by about 10% !!!\n",
    "\n",
    "You can also check that the number of false negatives is way greater than the number of false positives. That is because there were a lot more people that didn't survive compared with the number of survivors. Then, the dataset is highly unbalanced. "
   ]
  }
 ],
 "metadata": {
  "kernelspec": {
   "display_name": "Python 3",
   "language": "python",
   "name": "python3"
  },
  "language_info": {
   "codemirror_mode": {
    "name": "ipython",
    "version": 3
   },
   "file_extension": ".py",
   "mimetype": "text/x-python",
   "name": "python",
   "nbconvert_exporter": "python",
   "pygments_lexer": "ipython3",
   "version": "3.8.5"
  }
 },
 "nbformat": 4,
 "nbformat_minor": 4
}
